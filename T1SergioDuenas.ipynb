{
 "cells": [
  {
   "cell_type": "markdown",
   "id": "ab8eec86",
   "metadata": {},
   "source": [
    "___\n",
    "<img style=\"float: right; margin: 0px 0px 15px 15px;\" src=\"https://i0.wp.com/cimtrajalisco.org/wp-content/uploads/2019/02/Logo_Horizontal-1024x472.jpg?fit=1024%2C472\" width=\"300px\" height=\"100px\" />\n",
    "\n",
    "\n",
    "# <font color= black> Proyecto en Ciencia de Datos.</font>\n",
    "\n",
    "- <Strong> Sergio Daniel Dueñas Godinez </Strong>\n",
    "- <Strong> Email: </Strong>  <font color=\"blue\"> sergio.duenas@iteso.mx</font>\n",
    "- <Strong> Expediente: </Strong> 739300\n",
    "___"
   ]
  },
  {
   "cell_type": "markdown",
   "id": "b3cbd18c",
   "metadata": {},
   "source": [
    "## <font color= black> Tarea 1.</font>\n",
    "## <font color= black> Resumen de \"A Gentle Introduction to MLOps.\" Yashaswi Nayak </font>\n",
    "https://towardsdatascience.com/a-gentle-introduction-to-mlops-7d64a3e890ff"
   ]
  },
  {
   "cell_type": "markdown",
   "id": "136dddc3",
   "metadata": {},
   "source": [
    "#### Qué es MLOps?\n",
    "Machine Learning Operations involucra los procesos o pasos para implementar un modelo de ML a un entorno de producción "
   ]
  },
  {
   "cell_type": "markdown",
   "id": "f1fd772a",
   "metadata": {},
   "source": [
    "##### Por qué necesitamos MLOps?\n",
    "En resumen, para tener un modelo confiable, rápido, preciso y puede ser utilzado por muchas personas sin dificultad.\n"
   ]
  },
  {
   "cell_type": "markdown",
   "id": "19677860",
   "metadata": {},
   "source": [
    "##### DevOps vs MLOps\n",
    "En los DevOps los procesos son dirigidos al pensamiento detrás de una aplicación, y el plan de lanzamiento. Al final su objetivo es parecido al de MLOps pero las etapas son muy diferentes."
   ]
  },
  {
   "cell_type": "markdown",
   "id": "0d4bd0fc",
   "metadata": {},
   "source": [
    "##### Etapas de MLOps\n",
    "<img src=https://miro.medium.com/v2/resize:fit:2000/format:webp/1*3KN_-nb0DXEEvE0jOLMV3w.png/>\n",
    "\n",
    "\n",
    "1. Scoping: Definimos el proyecto\n",
    "2. Data engineering: Recolección de datos y preprocesamiento de estos\n",
    "3. Modelling: Creamos el modelo ML, lo entrenamos y realizamos las metricas de error.\n",
    "4. Deployment: Implementamos el modelo en la nube.\n",
    "5. Monitoring: Dependemos de alguna infraestructura que monitoree y haga mantenimiento o actualizaciones al modelo "
   ]
  },
  {
   "cell_type": "markdown",
   "id": "6eeabf46",
   "metadata": {},
   "source": [
    "##### ML Infraestructura de producción\n",
    "\n",
    "<img src=\"https://miro.medium.com/v2/resize:fit:2000/format:webp/1*5bzbexO-yyuLgrqlXFdJ_g.png\" />\n",
    "\n",
    "Para tener toda una infraestructura de ML necesitamos lo visto en la imágen:\n",
    "\n",
    "- Colección de datos.\n",
    "- Verificación de datos.\n",
    "- Feature extraction: Seleccionamos las mejores features para nuestro modelo.\n",
    "- Configuración: Configuramos los protocolos de comunicación, sistemas de integración y como los componentes se comunican entre sí.\n",
    "- Código del ML: Desarrollo del modelo de Machine Learning.\n",
    "- Machine Resource Management: Planeamos los recursos del modelo de ML. Usualmente requiere mucho CPU, aunque modelos de deep learning dependen más del GPU.\n",
    "- Herramientas de anáñisis: Con que mediremos el performance de nuestro modelo.\n",
    "- Project Management tool.\n",
    "- Serving infraestructure.\n",
    "- Monitoring."
   ]
  }
 ],
 "metadata": {
  "kernelspec": {
   "display_name": "Python 3 (ipykernel)",
   "language": "python",
   "name": "python3"
  },
  "language_info": {
   "codemirror_mode": {
    "name": "ipython",
    "version": 3
   },
   "file_extension": ".py",
   "mimetype": "text/x-python",
   "name": "python",
   "nbconvert_exporter": "python",
   "pygments_lexer": "ipython3",
   "version": "3.10.10"
  }
 },
 "nbformat": 4,
 "nbformat_minor": 5
}
